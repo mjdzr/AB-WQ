{
 "cells": [
  {
   "cell_type": "markdown",
   "metadata": {},
   "source": [
    "This is the first part of the code and is designed for checking and cleaning the data. The data used is taken from Alberta Water Quality Data Portal with focus on water matrix (0) and long-term and tributary monitoring stations:\n",
    "Source for getting data: https://environment.extranet.gov.ab.ca/apps/WaterQuality/dataportal/DataDownload/Index/"
   ]
  },
  {
   "cell_type": "code",
   "execution_count": 2,
   "metadata": {},
   "outputs": [],
   "source": [
    "import pandas as pd"
   ]
  },
  {
   "cell_type": "code",
   "execution_count": 9,
   "metadata": {},
   "outputs": [
    {
     "name": "stderr",
     "output_type": "stream",
     "text": [
      "/var/folders/_g/mxhqq21x7359p_ly0jzzd66m0000gn/T/ipykernel_97292/1794255473.py:1: DtypeWarning: Columns (22) have mixed types. Specify dtype option on import or set low_memory=False.\n",
      "  data = pd.read_csv('../data/Water Quality-2025-03-08 172848.csv')\n"
     ]
    }
   ],
   "source": [
    "data = pd.read_csv('../data/Water Quality-2025-03-08 172848.csv')"
   ]
  },
  {
   "cell_type": "code",
   "execution_count": 14,
   "metadata": {},
   "outputs": [
    {
     "data": {
      "text/plain": [
       "{'ProjectNumber': 'object',\n",
       " 'SampleNumber': 'object',\n",
       " 'ContinentalRiverBasinCode': 'object',\n",
       " 'RiverBasinCode': 'object',\n",
       " 'RiverSubBasinCode': 'object',\n",
       " 'StationTypeCode': 'int64',\n",
       " 'StationNumber': 'object',\n",
       " 'Station': 'object',\n",
       " 'LatitudeDecimalDegrees': 'float64',\n",
       " 'LongitudeDecimalDegrees': 'float64',\n",
       " 'SampleMatrixCode': 'int64',\n",
       " 'SampleTypeCode': 'int64',\n",
       " 'CollectionCode': 'float64',\n",
       " 'QCSampleFlag': 'object',\n",
       " 'SampleComment': 'object',\n",
       " 'SampleDateTime': 'object',\n",
       " 'VmvCode': 'int64',\n",
       " 'VariableCode': 'int64',\n",
       " 'VariableName': 'object',\n",
       " 'MeasurementFlag': 'object',\n",
       " 'MeasurementValue': 'float64',\n",
       " 'UnitCode': 'object',\n",
       " 'SampleDetectLimit': 'object',\n",
       " 'MeasurementComment': 'object',\n",
       " 'MeasurementQualifier': 'object',\n",
       " 'MeasurementQualifierDescription': 'object',\n",
       " 'MeasurementQualifierComment': 'object',\n",
       " 'MethodCode': 'int64',\n",
       " 'MethodDetectionLimit': 'float64',\n",
       " 'LabCode': 'float64'}"
      ]
     },
     "execution_count": 14,
     "metadata": {},
     "output_type": "execute_result"
    }
   ],
   "source": [
    "data.dtypes.astype(str).to_dict()"
   ]
  },
  {
   "cell_type": "code",
   "execution_count": null,
   "metadata": {},
   "outputs": [],
   "source": []
  }
 ],
 "metadata": {
  "kernelspec": {
   "display_name": "ab-wq",
   "language": "python",
   "name": "python3"
  },
  "language_info": {
   "codemirror_mode": {
    "name": "ipython",
    "version": 3
   },
   "file_extension": ".py",
   "mimetype": "text/x-python",
   "name": "python",
   "nbconvert_exporter": "python",
   "pygments_lexer": "ipython3",
   "version": "3.10.16"
  }
 },
 "nbformat": 4,
 "nbformat_minor": 2
}
