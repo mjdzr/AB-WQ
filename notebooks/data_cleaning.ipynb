{
 "cells": [
  {
   "cell_type": "markdown",
   "metadata": {},
   "source": [
    "# 1. Read and pre-process the data"
   ]
  },
  {
   "cell_type": "markdown",
   "metadata": {},
   "source": [
    "## 1.1 Read data"
   ]
  },
  {
   "cell_type": "markdown",
   "metadata": {},
   "source": [
    "This is the first part of the code and is designed for checking and cleaning the data. The data used is taken from Alberta Water Quality Data Portal with focus on water matrix (0) and long-term and tributary monitoring stations:\n",
    "Source for getting data: https://environment.extranet.gov.ab.ca/apps/WaterQuality/dataportal/DataDownload/Index/"
   ]
  },
  {
   "cell_type": "code",
   "execution_count": 2,
   "metadata": {},
   "outputs": [],
   "source": [
    "import pandas as pd"
   ]
  },
  {
   "cell_type": "code",
   "execution_count": 75,
   "metadata": {},
   "outputs": [],
   "source": [
    "# Specify parse date:\n",
    "parse_dates = ['SampleDateTime']\n",
    "\n",
    "# Now read the data\n",
    "data = pd.read_csv('../data/Water Quality-2025-03-08 172848.csv', dtype=\n",
    "{\n",
    " 'ProjectNumber': 'string',\n",
    " 'SampleNumber': 'string',\n",
    " 'ContinentalRiverBasinCode': 'category',\n",
    " 'RiverBasinCode': 'category',\n",
    " 'RiverSubBasinCode': 'category',\n",
    " 'StationTypeCode': 'string',\n",
    " 'StationNumber': 'category',\n",
    " 'Station': 'category',\n",
    " 'LatitudeDecimalDegrees': 'float64',\n",
    " 'LongitudeDecimalDegrees': 'float64',\n",
    " 'SampleMatrixCode': 'category',\n",
    " 'SampleTypeCode': 'category',\n",
    " 'CollectionCode': 'category',\n",
    " 'QCSampleFlag': 'category',\n",
    " 'SampleComment': 'string',\n",
    " 'SampleDateTime': 'string',\n",
    " 'VmvCode': 'string',\n",
    " 'VariableCode': 'string',\n",
    " 'VariableName': 'category',\n",
    " 'MeasurementFlag': 'category',\n",
    " 'MeasurementValue': 'float64',\n",
    " 'UnitCode': 'category',\n",
    " 'SampleDetectLimit': 'string',\n",
    " 'MeasurementComment': 'string',\n",
    " 'MeasurementQualifier': 'string',\n",
    " 'MeasurementQualifierDescription': 'string',\n",
    " 'MeasurementQualifierComment': 'string',\n",
    " 'MethodCode': 'string',\n",
    " 'MethodDetectionLimit': 'float64',\n",
    " 'LabCode': 'category'\n",
    " }\n",
    " , na_values=['', 'NaN', 'NULL', 'N/A', 'NA', 'null'])"
   ]
  },
  {
   "cell_type": "code",
   "execution_count": 76,
   "metadata": {},
   "outputs": [],
   "source": [
    "# convert the SampleDateTime column to datetime\n",
    "data['SampleDateTime'] = pd.to_datetime(data['SampleDateTime'], format='%m/%d/%Y %H:%M:%S', errors='coerce')\n",
    "\n",
    "# Convert SampleDetectLimit to numeric\n",
    "data['SampleDetectLimit'] = pd.to_numeric(data['SampleDetectLimit'], errors='coerce')"
   ]
  },
  {
   "cell_type": "markdown",
   "metadata": {},
   "source": [
    "# 1.2 Filter the data"
   ]
  },
  {
   "cell_type": "code",
   "execution_count": 77,
   "metadata": {},
   "outputs": [
    {
     "data": {
      "text/plain": [
       "ProjectNumber                            0\n",
       "VmvCode                                  0\n",
       "SampleDateTime                           0\n",
       "MeasurementValue                         0\n",
       "QCSampleFlag                             0\n",
       "MethodCode                               0\n",
       "SampleTypeCode                           0\n",
       "SampleMatrixCode                         0\n",
       "VariableCode                             0\n",
       "LongitudeDecimalDegrees                  0\n",
       "Station                                  0\n",
       "StationNumber                            0\n",
       "StationTypeCode                          0\n",
       "RiverSubBasinCode                        0\n",
       "RiverBasinCode                           0\n",
       "ContinentalRiverBasinCode                0\n",
       "SampleNumber                             0\n",
       "LatitudeDecimalDegrees                   0\n",
       "VariableName                             0\n",
       "LabCode                                288\n",
       "UnitCode                             73616\n",
       "CollectionCode                      200683\n",
       "MethodDetectionLimit                386180\n",
       "SampleComment                       462007\n",
       "SampleDetectLimit                   607335\n",
       "MeasurementFlag                    1441044\n",
       "MeasurementQualifier               2199559\n",
       "MeasurementQualifierDescription    2199559\n",
       "MeasurementQualifierComment        2246559\n",
       "MeasurementComment                 2281966\n",
       "dtype: int64"
      ]
     },
     "execution_count": 77,
     "metadata": {},
     "output_type": "execute_result"
    }
   ],
   "source": [
    "# Check missingness for each column and arrange in descending order\n",
    "data.isnull().sum().sort_values()"
   ]
  },
  {
   "cell_type": "markdown",
   "metadata": {},
   "source": [
    "**Note:** it is the user's choice to not include the data without unit codes. I chose to eliminate them as they really create ambiguity in how usable the data will be. Just as a more general rule, we apply SampleDateTime, MeasurementValue, StationNumber, and VariableName. "
   ]
  },
  {
   "cell_type": "code",
   "execution_count": 97,
   "metadata": {},
   "outputs": [],
   "source": [
    "data = data.dropna(subset = ['UnitCode', 'MeasurementValue', 'SampleDateTime', 'StationNumber', 'VariableName'])\n",
    "data = data.dropna(how = 'all') # drop rows where all elements are NaN"
   ]
  },
  {
   "cell_type": "code",
   "execution_count": null,
   "metadata": {},
   "outputs": [],
   "source": [
    "duplicates = data.duplicated(subset=['SampleDateTime', 'StationNumber', 'VariableName', 'MeasurementValue', \n",
    "                                     'UnitCode', 'VmvCode', 'SampleNumber', 'LabCode'], \n",
    "                             keep=False)\n",
    "                             \n",
    "# write duplicate rows to csv   \n",
    "# data[duplicates].to_csv('../output/duplicate_rows.csv', index=False)"
   ]
  },
  {
   "cell_type": "markdown",
   "metadata": {},
   "source": [
    "Basically there is no duplicate row based on the analysis of duplicates. "
   ]
  },
  {
   "cell_type": "markdown",
   "metadata": {},
   "source": [
    "## 1.3 EDA"
   ]
  },
  {
   "cell_type": "markdown",
   "metadata": {},
   "source": [
    "More to do: harmonize the units for each parameter."
   ]
  },
  {
   "cell_type": "code",
   "execution_count": 78,
   "metadata": {},
   "outputs": [
    {
     "data": {
      "text/html": [
       "<div>\n",
       "<style scoped>\n",
       "    .dataframe tbody tr th:only-of-type {\n",
       "        vertical-align: middle;\n",
       "    }\n",
       "\n",
       "    .dataframe tbody tr th {\n",
       "        vertical-align: top;\n",
       "    }\n",
       "\n",
       "    .dataframe thead th {\n",
       "        text-align: right;\n",
       "    }\n",
       "</style>\n",
       "<table border=\"1\" class=\"dataframe\">\n",
       "  <thead>\n",
       "    <tr style=\"text-align: right;\">\n",
       "      <th></th>\n",
       "      <th>LatitudeDecimalDegrees</th>\n",
       "      <th>LongitudeDecimalDegrees</th>\n",
       "      <th>SampleDateTime</th>\n",
       "      <th>MeasurementValue</th>\n",
       "      <th>SampleDetectLimit</th>\n",
       "      <th>MethodDetectionLimit</th>\n",
       "    </tr>\n",
       "  </thead>\n",
       "  <tbody>\n",
       "    <tr>\n",
       "      <th>count</th>\n",
       "      <td>2.283487e+06</td>\n",
       "      <td>2.283487e+06</td>\n",
       "      <td>2283487</td>\n",
       "      <td>2.283487e+06</td>\n",
       "      <td>1676152.0</td>\n",
       "      <td>1.897307e+06</td>\n",
       "    </tr>\n",
       "    <tr>\n",
       "      <th>mean</th>\n",
       "      <td>5.250656e+01</td>\n",
       "      <td>-1.136527e+02</td>\n",
       "      <td>2012-11-14 19:27:48.970451456</td>\n",
       "      <td>5.697865e+01</td>\n",
       "      <td>0.428427</td>\n",
       "      <td>4.913207e-01</td>\n",
       "    </tr>\n",
       "    <tr>\n",
       "      <th>min</th>\n",
       "      <td>4.902673e+01</td>\n",
       "      <td>-1.188047e+02</td>\n",
       "      <td>1959-02-20 14:00:00</td>\n",
       "      <td>-2.130000e+02</td>\n",
       "      <td>0.0</td>\n",
       "      <td>0.000000e+00</td>\n",
       "    </tr>\n",
       "    <tr>\n",
       "      <th>25%</th>\n",
       "      <td>5.035310e+01</td>\n",
       "      <td>-1.144871e+02</td>\n",
       "      <td>2007-06-18 08:55:00</td>\n",
       "      <td>2.000000e-02</td>\n",
       "      <td>0.005</td>\n",
       "      <td>6.000000e-03</td>\n",
       "    </tr>\n",
       "    <tr>\n",
       "      <th>50%</th>\n",
       "      <td>5.208902e+01</td>\n",
       "      <td>-1.134421e+02</td>\n",
       "      <td>2016-03-15 09:30:00</td>\n",
       "      <td>5.000000e-01</td>\n",
       "      <td>0.05</td>\n",
       "      <td>5.000000e-02</td>\n",
       "    </tr>\n",
       "    <tr>\n",
       "      <th>75%</th>\n",
       "      <td>5.401297e+01</td>\n",
       "      <td>-1.124759e+02</td>\n",
       "      <td>2020-08-04 12:30:00</td>\n",
       "      <td>8.500000e+00</td>\n",
       "      <td>0.2</td>\n",
       "      <td>3.000000e-01</td>\n",
       "    </tr>\n",
       "    <tr>\n",
       "      <th>max</th>\n",
       "      <td>5.844722e+01</td>\n",
       "      <td>-1.100297e+02</td>\n",
       "      <td>2024-12-12 14:45:00</td>\n",
       "      <td>1.330000e+06</td>\n",
       "      <td>400.0</td>\n",
       "      <td>4.000000e+02</td>\n",
       "    </tr>\n",
       "    <tr>\n",
       "      <th>std</th>\n",
       "      <td>2.508057e+00</td>\n",
       "      <td>1.993700e+00</td>\n",
       "      <td>NaN</td>\n",
       "      <td>1.787225e+03</td>\n",
       "      <td>1.851364</td>\n",
       "      <td>1.648276e+00</td>\n",
       "    </tr>\n",
       "  </tbody>\n",
       "</table>\n",
       "</div>"
      ],
      "text/plain": [
       "       LatitudeDecimalDegrees  LongitudeDecimalDegrees  \\\n",
       "count            2.283487e+06             2.283487e+06   \n",
       "mean             5.250656e+01            -1.136527e+02   \n",
       "min              4.902673e+01            -1.188047e+02   \n",
       "25%              5.035310e+01            -1.144871e+02   \n",
       "50%              5.208902e+01            -1.134421e+02   \n",
       "75%              5.401297e+01            -1.124759e+02   \n",
       "max              5.844722e+01            -1.100297e+02   \n",
       "std              2.508057e+00             1.993700e+00   \n",
       "\n",
       "                      SampleDateTime  MeasurementValue  SampleDetectLimit  \\\n",
       "count                        2283487      2.283487e+06          1676152.0   \n",
       "mean   2012-11-14 19:27:48.970451456      5.697865e+01           0.428427   \n",
       "min              1959-02-20 14:00:00     -2.130000e+02                0.0   \n",
       "25%              2007-06-18 08:55:00      2.000000e-02              0.005   \n",
       "50%              2016-03-15 09:30:00      5.000000e-01               0.05   \n",
       "75%              2020-08-04 12:30:00      8.500000e+00                0.2   \n",
       "max              2024-12-12 14:45:00      1.330000e+06              400.0   \n",
       "std                              NaN      1.787225e+03           1.851364   \n",
       "\n",
       "       MethodDetectionLimit  \n",
       "count          1.897307e+06  \n",
       "mean           4.913207e-01  \n",
       "min            0.000000e+00  \n",
       "25%            6.000000e-03  \n",
       "50%            5.000000e-02  \n",
       "75%            3.000000e-01  \n",
       "max            4.000000e+02  \n",
       "std            1.648276e+00  "
      ]
     },
     "execution_count": 78,
     "metadata": {},
     "output_type": "execute_result"
    }
   ],
   "source": [
    "data.describe()"
   ]
  },
  {
   "cell_type": "code",
   "execution_count": null,
   "metadata": {},
   "outputs": [],
   "source": []
  }
 ],
 "metadata": {
  "kernelspec": {
   "display_name": "ab-wq",
   "language": "python",
   "name": "python3"
  },
  "language_info": {
   "codemirror_mode": {
    "name": "ipython",
    "version": 3
   },
   "file_extension": ".py",
   "mimetype": "text/x-python",
   "name": "python",
   "nbconvert_exporter": "python",
   "pygments_lexer": "ipython3",
   "version": "3.10.16"
  }
 },
 "nbformat": 4,
 "nbformat_minor": 2
}
